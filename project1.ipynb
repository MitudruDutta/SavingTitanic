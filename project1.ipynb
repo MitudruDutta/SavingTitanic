{
 "cells": [
  {
   "metadata": {},
   "cell_type": "markdown",
   "source": [
    "# Predicting Titanic Survival: An End-to-End Machine Learning Project 🚢\n",
    "\n",
    "This project walks through the complete workflow of building a machine learning model to predict passenger survival on the Titanic, a classic binary classification problem.\n",
    "\n",
    "The process will cover several key stages:\n",
    "1.  **Exploratory Data Analysis (EDA):** Understanding the data and identifying important features and missing values.\n",
    "2.  **Feature Engineering:** Creating new, more informative features from the existing data to improve model performance.\n",
    "3.  **Data Preprocessing:** Encoding categorical features and scaling numerical features to prepare the data for modeling.\n",
    "4.  **Model Selection & Hyperparameter Tuning:** Evaluating several models using cross-validation and then fine-tuning their parameters with `GridSearchCV`.\n",
    "5.  **Ensemble Modeling:** Combining the best-tuned models into a final, robust `VotingClassifier`.\n",
    "6.  **Submission & Model Persistence:** Generating a submission file and saving the final model for future use.\n",
    "\n",
    "---"
   ],
   "id": "7d354aa50ad5266e"
  },
  {
   "metadata": {},
   "cell_type": "markdown",
   "source": [
    "## 1. Exploratory Data Analysis (EDA)\n",
    "\n",
    "We begin by loading the Titanic dataset and getting a high-level overview."
   ],
   "id": "168bb31a7438cf6d"
  },
  {
   "metadata": {
    "ExecuteTime": {
     "end_time": "2025-10-06T16:29:33.991991Z",
     "start_time": "2025-10-06T16:29:33.977044Z"
    }
   },
   "cell_type": "code",
   "source": [
    "# Standard libraries\n",
    "import numpy as np\n",
    "import pandas as pd\n",
    "import matplotlib.pyplot as plt\n",
    "import seaborn as sns\n",
    "\n",
    "# Load the datasets\n",
    "train = pd.read_csv('train.csv')\n",
    "test = pd.read_csv('test.csv')\n",
    "\n",
    "train.head()"
   ],
   "id": "5285250cd6f272b9",
   "outputs": [
    {
     "data": {
      "text/plain": [
       "   PassengerId  Survived  Pclass  \\\n",
       "0            1         0       3   \n",
       "1            2         1       1   \n",
       "2            3         1       3   \n",
       "3            4         1       1   \n",
       "4            5         0       3   \n",
       "\n",
       "                                                Name     Sex   Age  SibSp  \\\n",
       "0                            Braund, Mr. Owen Harris    male  22.0      1   \n",
       "1  Cumings, Mrs. John Bradley (Florence Briggs Th...  female  38.0      1   \n",
       "2                             Heikkinen, Miss. Laina  female  26.0      0   \n",
       "3       Futrelle, Mrs. Jacques Heath (Lily May Peel)  female  35.0      1   \n",
       "4                           Allen, Mr. William Henry    male  35.0      0   \n",
       "\n",
       "   Parch            Ticket     Fare Cabin Embarked  \n",
       "0      0         A/5 21171   7.2500   NaN        S  \n",
       "1      0          PC 17599  71.2833   C85        C  \n",
       "2      0  STON/O2. 3101282   7.9250   NaN        S  \n",
       "3      0            113803  53.1000  C123        S  \n",
       "4      0            373450   8.0500   NaN        S  "
      ],
      "text/html": [
       "<div>\n",
       "<style scoped>\n",
       "    .dataframe tbody tr th:only-of-type {\n",
       "        vertical-align: middle;\n",
       "    }\n",
       "\n",
       "    .dataframe tbody tr th {\n",
       "        vertical-align: top;\n",
       "    }\n",
       "\n",
       "    .dataframe thead th {\n",
       "        text-align: right;\n",
       "    }\n",
       "</style>\n",
       "<table border=\"1\" class=\"dataframe\">\n",
       "  <thead>\n",
       "    <tr style=\"text-align: right;\">\n",
       "      <th></th>\n",
       "      <th>PassengerId</th>\n",
       "      <th>Survived</th>\n",
       "      <th>Pclass</th>\n",
       "      <th>Name</th>\n",
       "      <th>Sex</th>\n",
       "      <th>Age</th>\n",
       "      <th>SibSp</th>\n",
       "      <th>Parch</th>\n",
       "      <th>Ticket</th>\n",
       "      <th>Fare</th>\n",
       "      <th>Cabin</th>\n",
       "      <th>Embarked</th>\n",
       "    </tr>\n",
       "  </thead>\n",
       "  <tbody>\n",
       "    <tr>\n",
       "      <th>0</th>\n",
       "      <td>1</td>\n",
       "      <td>0</td>\n",
       "      <td>3</td>\n",
       "      <td>Braund, Mr. Owen Harris</td>\n",
       "      <td>male</td>\n",
       "      <td>22.0</td>\n",
       "      <td>1</td>\n",
       "      <td>0</td>\n",
       "      <td>A/5 21171</td>\n",
       "      <td>7.2500</td>\n",
       "      <td>NaN</td>\n",
       "      <td>S</td>\n",
       "    </tr>\n",
       "    <tr>\n",
       "      <th>1</th>\n",
       "      <td>2</td>\n",
       "      <td>1</td>\n",
       "      <td>1</td>\n",
       "      <td>Cumings, Mrs. John Bradley (Florence Briggs Th...</td>\n",
       "      <td>female</td>\n",
       "      <td>38.0</td>\n",
       "      <td>1</td>\n",
       "      <td>0</td>\n",
       "      <td>PC 17599</td>\n",
       "      <td>71.2833</td>\n",
       "      <td>C85</td>\n",
       "      <td>C</td>\n",
       "    </tr>\n",
       "    <tr>\n",
       "      <th>2</th>\n",
       "      <td>3</td>\n",
       "      <td>1</td>\n",
       "      <td>3</td>\n",
       "      <td>Heikkinen, Miss. Laina</td>\n",
       "      <td>female</td>\n",
       "      <td>26.0</td>\n",
       "      <td>0</td>\n",
       "      <td>0</td>\n",
       "      <td>STON/O2. 3101282</td>\n",
       "      <td>7.9250</td>\n",
       "      <td>NaN</td>\n",
       "      <td>S</td>\n",
       "    </tr>\n",
       "    <tr>\n",
       "      <th>3</th>\n",
       "      <td>4</td>\n",
       "      <td>1</td>\n",
       "      <td>1</td>\n",
       "      <td>Futrelle, Mrs. Jacques Heath (Lily May Peel)</td>\n",
       "      <td>female</td>\n",
       "      <td>35.0</td>\n",
       "      <td>1</td>\n",
       "      <td>0</td>\n",
       "      <td>113803</td>\n",
       "      <td>53.1000</td>\n",
       "      <td>C123</td>\n",
       "      <td>S</td>\n",
       "    </tr>\n",
       "    <tr>\n",
       "      <th>4</th>\n",
       "      <td>5</td>\n",
       "      <td>0</td>\n",
       "      <td>3</td>\n",
       "      <td>Allen, Mr. William Henry</td>\n",
       "      <td>male</td>\n",
       "      <td>35.0</td>\n",
       "      <td>0</td>\n",
       "      <td>0</td>\n",
       "      <td>373450</td>\n",
       "      <td>8.0500</td>\n",
       "      <td>NaN</td>\n",
       "      <td>S</td>\n",
       "    </tr>\n",
       "  </tbody>\n",
       "</table>\n",
       "</div>"
      ]
     },
     "execution_count": 10,
     "metadata": {},
     "output_type": "execute_result"
    }
   ],
   "execution_count": 10
  },
  {
   "metadata": {},
   "cell_type": "markdown",
   "source": "Using `.info()` reveals that the `Age` and `Cabin` columns have a significant number of missing values, which we will need to handle. Visualizing the data shows that `Sex` and `Pclass` (Passenger Class) are strong predictors of survival.\n",
   "id": "f45e593724e5b971"
  },
  {
   "metadata": {
    "ExecuteTime": {
     "end_time": "2025-10-06T16:29:36.323813Z",
     "start_time": "2025-10-06T16:29:36.121489Z"
    }
   },
   "cell_type": "code",
   "source": [
    "train.info()\n",
    "\n",
    "plt.figure(figsize=(12, 5))\n",
    "plt.subplot(1, 2, 1)\n",
    "sns.barplot(x='Sex', y='Survived', data=train)\n",
    "plt.title('Survival Rate by Sex')\n",
    "\n",
    "plt.subplot(1, 2, 2)\n",
    "sns.barplot(x='Pclass', y='Survived', data=train)\n",
    "plt.title('Survival Rate by Pclass')\n",
    "\n",
    "plt.show()"
   ],
   "id": "6d0cf7465d55d522",
   "outputs": [
    {
     "name": "stdout",
     "output_type": "stream",
     "text": [
      "<class 'pandas.core.frame.DataFrame'>\n",
      "RangeIndex: 891 entries, 0 to 890\n",
      "Data columns (total 12 columns):\n",
      " #   Column       Non-Null Count  Dtype  \n",
      "---  ------       --------------  -----  \n",
      " 0   PassengerId  891 non-null    int64  \n",
      " 1   Survived     891 non-null    int64  \n",
      " 2   Pclass       891 non-null    int64  \n",
      " 3   Name         891 non-null    object \n",
      " 4   Sex          891 non-null    object \n",
      " 5   Age          714 non-null    float64\n",
      " 6   SibSp        891 non-null    int64  \n",
      " 7   Parch        891 non-null    int64  \n",
      " 8   Ticket       891 non-null    object \n",
      " 9   Fare         891 non-null    float64\n",
      " 10  Cabin        204 non-null    object \n",
      " 11  Embarked     889 non-null    object \n",
      "dtypes: float64(2), int64(5), object(5)\n",
      "memory usage: 83.7+ KB\n"
     ]
    },
    {
     "data": {
      "text/plain": [
       "<Figure size 1200x500 with 2 Axes>"
      ],
      "image/png": "[encoded data removed]"
     },
     "metadata": {},
     "output_type": "display_data",
     "jetTransient": {
      "display_id": null
     }
    }
   ],
   "execution_count": 11
  },
  {
   "metadata": {},
   "cell_type": "markdown",
   "source": [
    "## 2. Feature Engineering: Creating a Better Dataset\n",
    "\n",
    "Feature engineering is the process of creating new, more informative features from the existing data. This is often the most impactful part of a machine learning project. We apply these transformations to both the training and test sets to ensure consistency.\n"
   ],
   "id": "243752d1a64f4a67"
  },
  {
   "metadata": {
    "ExecuteTime": {
     "end_time": "2025-10-06T16:31:37.908799Z",
     "start_time": "2025-10-06T16:31:37.888828Z"
    }
   },
   "cell_type": "code",
   "source": [
    "def extract_title(name):\n",
    "    title = name.split(',')[1].split('.')[0].strip()\n",
    "    return title\n",
    "\n",
    "for df in [train, test]:\n",
    "    # Extract Title and group rare ones\n",
    "    df['Title'] = df['Name'].apply(extract_title)\n",
    "    df['Title'] = df['Title'].replace(['Lady','Countess','Capt','Col','Don','Dr','Major','Rev','Sir','Jonkheer','Dona'],'Rare')\n",
    "    df['Title'] = df['Title'].replace(['Mlle', 'Ms'], 'Miss')\n",
    "    df['Title'] = df['Title'].replace('Mme', 'Mrs')\n",
    "\n",
    "    # Create Family features\n",
    "    df['FamilySize'] = df['SibSp'] + df['Parch'] + 1\n",
    "    df['IsAlone'] = (df['FamilySize'] == 1).astype(int)\n",
    "    df['HasCabin'] = (~df['Cabin'].isnull()).astype(int)\n",
    "\n",
    "    # Extract deck from cabin\n",
    "    df['Deck'] = df['Cabin'].apply(lambda x: x[0] if pd.notna(x) else 'Unknown')\n",
    "\n",
    "    # Fill missing Embarked with the mode\n",
    "    df['Embarked'] = df['Embarked'].fillna(df['Embarked'].mode()[0])\n",
    "\n",
    "    # Fill missing Fare and create log-transformed and binned versions\n",
    "    df['Fare'] = df['Fare'].fillna(df['Fare'].median())\n",
    "    df['Fare_log1p'] = np.log1p(df['Fare'])\n",
    "    df['Fare_Bin'] = pd.qcut(df['Fare'], q=4, labels=False, duplicates='drop')\n",
    "\n",
    "    # Impute Age based on the median age of each Title group\n",
    "    age_medians = train.groupby('Title')['Age'].median()\n",
    "    df['Age'] = df.apply(lambda r: age_medians[r['Title']] if pd.isna(r['Age']) else r['Age'], axis=1)\n",
    "\n",
    "    # Create Age bins and interaction features\n",
    "    df['Age_Bin'] = pd.cut(df['Age'], bins=[0, 12, 18, 35, 60, 100], labels=False)\n",
    "    df['Age_Class'] = df['Age'] * df['Pclass']\n",
    "\n",
    "print(\"Feature engineering and imputation complete.\")"
   ],
   "id": "9455e665c3cb2828",
   "outputs": [
    {
     "name": "stdout",
     "output_type": "stream",
     "text": [
      "Feature engineering and imputation complete.\n"
     ]
    }
   ],
   "execution_count": 13
  },
  {
   "metadata": {},
   "cell_type": "markdown",
   "source": [
    "## 3. Final Preprocessing for Modeling\n",
    "\n",
    "The last step before training is to convert all our features into a purely numerical format through encoding and scaling.\n"
   ],
   "id": "fca1615abfc9bab2"
  },
  {
   "metadata": {
    "ExecuteTime": {
     "end_time": "2025-10-06T16:31:40.400351Z",
     "start_time": "2025-10-06T16:31:40.385855Z"
    }
   },
   "cell_type": "code",
   "source": [
    "from sklearn.preprocessing import StandardScaler\n",
    "\n",
    "# Define the final feature set\n",
    "features = ['Pclass','Sex','Age','Fare_log1p','Embarked','Title','FamilySize','IsAlone','HasCabin',\n",
    "            'Deck','Fare_Bin','Age_Bin','Age_Class']\n",
    "\n",
    "X = train[features].copy()\n",
    "y = train['Survived']\n",
    "X_test = test[features].copy()\n",
    "\n",
    "# One-hot encode all categorical features\n",
    "X = pd.get_dummies(X, columns=['Sex','Embarked','Title','Deck','Fare_Bin','Age_Bin'], drop_first=True)\n",
    "X_test = pd.get_dummies(X_test, columns=['Sex','Embarked','Title','Deck','Fare_Bin','Age_Bin'], drop_first=True)\n",
    "\n",
    "# Align columns to ensure train and test sets have the same features\n",
    "X_test = X_test.reindex(columns=X.columns, fill_value=0)\n",
    "\n",
    "# Scale numeric columns\n",
    "num_cols = ['Age','Fare_log1p','FamilySize','Age_Class']\n",
    "scaler = StandardScaler()\n",
    "X[num_cols] = scaler.fit_transform(X[num_cols])\n",
    "X_test[num_cols] = scaler.transform(X_test[num_cols])\n",
    "\n",
    "print('Final training data shape:', X.shape)"
   ],
   "id": "86bc7d73eb2b631c",
   "outputs": [
    {
     "name": "stdout",
     "output_type": "stream",
     "text": [
      "Final training data shape: (891, 30)\n"
     ]
    }
   ],
   "execution_count": 14
  },
  {
   "metadata": {},
   "cell_type": "markdown",
   "source": [
    "## 4. Model Selection and Hyperparameter Tuning\n",
    "\n",
    "We will evaluate several models using **Stratified K-Fold Cross-Validation** to get a reliable baseline, then use **GridSearchCV** to find the best hyperparameters for each.\n"
   ],
   "id": "e64448b55773a720"
  },
  {
   "metadata": {
    "ExecuteTime": {
     "end_time": "2025-10-06T16:31:43.383910Z",
     "start_time": "2025-10-06T16:31:41.625264Z"
    }
   },
   "cell_type": "code",
   "source": [
    "from sklearn.model_selection import GridSearchCV, StratifiedKFold, cross_val_score\n",
    "from sklearn.linear_model import LogisticRegression\n",
    "from sklearn.ensemble import RandomForestClassifier, GradientBoostingClassifier\n",
    "from xgboost import XGBClassifier\n",
    "\n",
    "# Initial model evaluation\n",
    "models = {\n",
    "    'Logistic': LogisticRegression(random_state=42, max_iter=1000),\n",
    "    'RandomForest': RandomForestClassifier(random_state=42),\n",
    "    'GradBoost': GradientBoostingClassifier(random_state=42),\n",
    "    'XGBoost': XGBClassifier(random_state=42, eval_metric='logloss')\n",
    "}\n",
    "\n",
    "cv = StratifiedKFold(n_splits=5, shuffle=True, random_state=42)\n",
    "\n",
    "for name, model in models.items():\n",
    "    scores = cross_val_score(model, X, y, cv=cv, scoring='accuracy')\n",
    "    print(f'{name:12s}  CV Accuracy: {scores.mean():.4f} +/- {scores.std():.4f}')\n",
    "\n",
    "# --- Hyperparameter Tuning (GridSearchCV) ---\n",
    "# (Code for GridSearchCV is extensive but was run to find the best parameters below)"
   ],
   "id": "c71678d054dd6a55",
   "outputs": [
    {
     "name": "stdout",
     "output_type": "stream",
     "text": [
      "Logistic      CV Accuracy: 0.8271 +/- 0.0149\n",
      "RandomForest  CV Accuracy: 0.8283 +/- 0.0046\n",
      "GradBoost     CV Accuracy: 0.8372 +/- 0.0186\n",
      "XGBoost       CV Accuracy: 0.8226 +/- 0.0232\n"
     ]
    }
   ],
   "execution_count": 15
  },
  {
   "metadata": {},
   "cell_type": "markdown",
   "source": "After running an extensive `GridSearchCV`, the best estimators for each model were found. For brevity, we'll use these optimized models directly in our final ensemble.\n",
   "id": "9bad3fcfb47ffdcc"
  },
  {
   "metadata": {},
   "cell_type": "markdown",
   "source": [
    "## 5. Building a Final Ensemble Model\n",
    "\n",
    "To maximize performance, we will combine our best-tuned models into a **`VotingClassifier`** ensemble. We use `voting='soft'` which averages the predicted probabilities from each model, often leading to a better result than a simple majority vote.\n"
   ],
   "id": "c8566beadae03e3b"
  },
  {
   "metadata": {
    "ExecuteTime": {
     "end_time": "2025-10-06T16:33:04.515732Z",
     "start_time": "2025-10-06T16:31:56.494056Z"
    }
   },
   "cell_type": "code",
   "source": [
    "from sklearn.ensemble import VotingClassifier\n",
    "# Define a seed for reproducibility\n",
    "SEED = 42\n",
    "HAS_XGBOOST = 'XGBClassifier' in globals()\n",
    "\n",
    "# Extended hyperparameter search with more comprehensive grids\n",
    "rf_param_grid = {\n",
    "    'n_estimators': [100, 200, 300],\n",
    "    'max_depth': [6, 8, 10, None],\n",
    "    'min_samples_split': [2, 5, 10],\n",
    "    'min_samples_leaf': [1, 2, 4],\n",
    "    'max_features': ['sqrt', 'log2']\n",
    "}\n",
    "\n",
    "gb_param_grid = {\n",
    "    'n_estimators': [100, 200, 300],\n",
    "    'learning_rate': [0.01, 0.05, 0.1],\n",
    "    'max_depth': [3, 4, 5],\n",
    "    'min_samples_split': [2, 5],\n",
    "    'subsample': [0.8, 1.0]\n",
    "}\n",
    "\n",
    "log_param_grid = {\n",
    "    'C': [0.1, 1.0, 10.0],\n",
    "    'penalty': ['l2'],\n",
    "    'solver': ['lbfgs', 'liblinear']\n",
    "}\n",
    "\n",
    "print(\"Starting hyperparameter tuning...\")\n",
    "\n",
    "# Random Forest tuning\n",
    "rf_search = GridSearchCV(\n",
    "    RandomForestClassifier(random_state=SEED),\n",
    "    rf_param_grid,\n",
    "    cv=cv,\n",
    "    scoring='accuracy',\n",
    "    n_jobs=-1,\n",
    "    verbose=1\n",
    ")\n",
    "rf_search.fit(X, y)\n",
    "print(f\"\\nRandom Forest Best Score: {rf_search.best_score_:.4f}\")\n",
    "print(f\"Random Forest Best Params: {rf_search.best_params_}\")\n",
    "\n",
    "# Gradient Boosting tuning\n",
    "gb_search = GridSearchCV(\n",
    "    GradientBoostingClassifier(random_state=SEED),\n",
    "    gb_param_grid,\n",
    "    cv=cv,\n",
    "    scoring='accuracy',\n",
    "    n_jobs=-1,\n",
    "    verbose=1\n",
    ")\n",
    "gb_search.fit(X, y)\n",
    "print(f\"\\nGradient Boosting Best Score: {gb_search.best_score_:.4f}\")\n",
    "print(f\"Gradient Boosting Best Params: {gb_search.best_params_}\")\n",
    "\n",
    "# Logistic Regression tuning\n",
    "log_search = GridSearchCV(\n",
    "    LogisticRegression(random_state=SEED, max_iter=1000),\n",
    "    log_param_grid,\n",
    "    cv=cv,\n",
    "    scoring='accuracy',\n",
    "    n_jobs=-1,\n",
    "    verbose=1\n",
    ")\n",
    "log_search.fit(X, y)\n",
    "print(f\"\\nLogistic Regression Best Score: {log_search.best_score_:.4f}\")\n",
    "print(f\"Logistic Regression Best Params: {log_search.best_params_}\")\n",
    "\n",
    "best_rf = rf_search.best_estimator_\n",
    "best_gb = gb_search.best_estimator_\n",
    "best_log = log_search.best_estimator_\n",
    "\n",
    "# XGBoost tuning (if available)\n",
    "if HAS_XGBOOST:\n",
    "    xgb_param_grid = {\n",
    "        'n_estimators': [100, 200, 300],\n",
    "        'max_depth': [3, 4, 5],\n",
    "        'learning_rate': [0.01, 0.05, 0.1],\n",
    "        'subsample': [0.8, 1.0],\n",
    "        'colsample_bytree': [0.8, 1.0]\n",
    "    }\n",
    "\n",
    "    xgb_search = GridSearchCV(\n",
    "        XGBClassifier(random_state=SEED, eval_metric='logloss'),\n",
    "        xgb_param_grid,\n",
    "        cv=cv,\n",
    "        scoring='accuracy',\n",
    "        n_jobs=-1,\n",
    "        verbose=1\n",
    "    )\n",
    "    xgb_search.fit(X, y)\n",
    "    print(f\"\\nXGBoost Best Score: {xgb_search.best_score_:.4f}\")\n",
    "    print(f\"XGBoost Best Params: {xgb_search.best_params_}\")\n",
    "    best_xgb = xgb_search.best_estimator_"
   ],
   "id": "4847cdbef020d6a7",
   "outputs": [
    {
     "name": "stdout",
     "output_type": "stream",
     "text": [
      "Starting hyperparameter tuning...\n",
      "Fitting 5 folds for each of 216 candidates, totalling 1080 fits\n",
      "\n",
      "Random Forest Best Score: 0.8507\n",
      "Random Forest Best Params: {'max_depth': None, 'max_features': 'log2', 'min_samples_leaf': 2, 'min_samples_split': 2, 'n_estimators': 200}\n",
      "Fitting 5 folds for each of 108 candidates, totalling 540 fits\n",
      "\n",
      "Gradient Boosting Best Score: 0.8496\n",
      "Gradient Boosting Best Params: {'learning_rate': 0.05, 'max_depth': 3, 'min_samples_split': 5, 'n_estimators': 300, 'subsample': 0.8}\n",
      "Fitting 5 folds for each of 6 candidates, totalling 30 fits\n",
      "\n",
      "Logistic Regression Best Score: 0.8305\n",
      "Logistic Regression Best Params: {'C': 10.0, 'penalty': 'l2', 'solver': 'lbfgs'}\n",
      "Fitting 5 folds for each of 108 candidates, totalling 540 fits\n",
      "\n",
      "XGBoost Best Score: 0.8507\n",
      "XGBoost Best Params: {'colsample_bytree': 0.8, 'learning_rate': 0.05, 'max_depth': 5, 'n_estimators': 200, 'subsample': 0.8}\n"
     ]
    }
   ],
   "execution_count": 16
  },
  {
   "metadata": {
    "ExecuteTime": {
     "end_time": "2025-10-06T16:33:12.129034Z",
     "start_time": "2025-10-06T16:33:08.110148Z"
    }
   },
   "cell_type": "code",
   "source": [
    "# Create an enhanced voting classifier with optimized models\n",
    "estimators_list = [('rf', best_rf), ('gb', best_gb), ('log', best_log)]\n",
    "\n",
    "if HAS_XGBOOST:\n",
    "    estimators_list.append(('xgb', best_xgb))\n",
    "    print(\"Ensemble includes: Random Forest, Gradient Boosting, Logistic Regression, and XGBoost\")\n",
    "else:\n",
    "    print(\"Ensemble includes: Random Forest, Gradient Boosting, and Logistic Regression\")\n",
    "\n",
    "voting = VotingClassifier(estimators=estimators_list, voting='soft')\n",
    "\n",
    "# Evaluate the voting model with cross-validation\n",
    "scores = cross_val_score(voting, X, y, cv=cv, scoring='accuracy')\n",
    "print(f\"\\nVoting Classifier CV Accuracy: {scores.mean():.4f} +/- {scores.std():.4f}\")"
   ],
   "id": "b3404a4f861f7eec",
   "outputs": [
    {
     "name": "stdout",
     "output_type": "stream",
     "text": [
      "Ensemble includes: Random Forest, Gradient Boosting, Logistic Regression, and XGBoost\n",
      "\n",
      "Voting Classifier CV Accuracy: 0.8496 +/- 0.0144\n"
     ]
    }
   ],
   "execution_count": 17
  },
  {
   "metadata": {},
   "cell_type": "markdown",
   "source": [
    "## 6. Submission and Model Persistence\n",
    "\n",
    "Finally, we fit our optimized ensemble on the **entire training dataset** and use it to make predictions on the test set. We then save the predictions to a `submission.csv` file and also save the trained model object using `pickle` for future use.\n"
   ],
   "id": "6f18b81b06210628"
  },
  {
   "metadata": {
    "ExecuteTime": {
     "end_time": "2025-10-06T16:34:23.020358Z",
     "start_time": "2025-10-06T16:34:21.942379Z"
    }
   },
   "cell_type": "code",
   "source": [
    "import pickle\n",
    "\n",
    "# Fit the final model on the entire training dataset\n",
    "voting.fit(X, y)\n",
    "print(\"Final ensemble model trained on entire dataset!\")\n",
    "\n",
    "# Make predictions on the test set\n",
    "test_preds = voting.predict(X_test)\n",
    "\n",
    "# Create and save the submission file\n",
    "submission = pd.DataFrame({'PassengerId': test['PassengerId'], 'Survived': test_preds})\n",
    "submission.to_csv('submission.csv', index=False)\n",
    "\n",
    "# Save the model, scaler, and feature list to a file\n",
    "with open('titanic_voting_model.pkl', 'wb') as f:\n",
    "    pickle.dump({'model': voting, 'scaler': scaler, 'features': X.columns.tolist()}, f)\n",
    "\n",
    "print(\"\\nSaved submission to submission.csv and model to titanic_voting_model.pkl\")\n",
    "submission.head()"
   ],
   "id": "e20b336182ac0664",
   "outputs": [
    {
     "name": "stdout",
     "output_type": "stream",
     "text": [
      "Final ensemble model trained on entire dataset!\n",
      "\n",
      "Saved submission to submission.csv and model to titanic_voting_model.pkl\n"
     ]
    },
    {
     "data": {
      "text/plain": [
       "   PassengerId  Survived\n",
       "0          892         0\n",
       "1          893         0\n",
       "2          894         0\n",
       "3          895         0\n",
       "4          896         1"
      ],
      "text/html": [
       "<div>\n",
       "<style scoped>\n",
       "    .dataframe tbody tr th:only-of-type {\n",
       "        vertical-align: middle;\n",
       "    }\n",
       "\n",
       "    .dataframe tbody tr th {\n",
       "        vertical-align: top;\n",
       "    }\n",
       "\n",
       "    .dataframe thead th {\n",
       "        text-align: right;\n",
       "    }\n",
       "</style>\n",
       "<table border=\"1\" class=\"dataframe\">\n",
       "  <thead>\n",
       "    <tr style=\"text-align: right;\">\n",
       "      <th></th>\n",
       "      <th>PassengerId</th>\n",
       "      <th>Survived</th>\n",
       "    </tr>\n",
       "  </thead>\n",
       "  <tbody>\n",
       "    <tr>\n",
       "      <th>0</th>\n",
       "      <td>892</td>\n",
       "      <td>0</td>\n",
       "    </tr>\n",
       "    <tr>\n",
       "      <th>1</th>\n",
       "      <td>893</td>\n",
       "      <td>0</td>\n",
       "    </tr>\n",
       "    <tr>\n",
       "      <th>2</th>\n",
       "      <td>894</td>\n",
       "      <td>0</td>\n",
       "    </tr>\n",
       "    <tr>\n",
       "      <th>3</th>\n",
       "      <td>895</td>\n",
       "      <td>0</td>\n",
       "    </tr>\n",
       "    <tr>\n",
       "      <th>4</th>\n",
       "      <td>896</td>\n",
       "      <td>1</td>\n",
       "    </tr>\n",
       "  </tbody>\n",
       "</table>\n",
       "</div>"
      ]
     },
     "execution_count": 19,
     "metadata": {},
     "output_type": "execute_result"
    }
   ],
   "execution_count": 19
  }
 ],
 "metadata": {
  "kernelspec": {
   "display_name": "Python 3",
   "language": "python",
   "name": "python3"
  },
  "language_info": {
   "codemirror_mode": {
    "name": "ipython",
    "version": 2
   },
   "file_extension": ".py",
   "mimetype": "text/x-python",
   "name": "python",
   "nbconvert_exporter": "python",
   "pygments_lexer": "ipython2",
   "version": "2.7.6"
  }
 },
 "nbformat": 4,
 "nbformat_minor": 5
}
